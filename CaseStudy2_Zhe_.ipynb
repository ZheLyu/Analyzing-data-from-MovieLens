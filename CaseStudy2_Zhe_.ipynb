{
 "cells": [
  {
   "cell_type": "markdown",
   "metadata": {},
   "source": [
    "# Case Study 2 : Analyzing data from MovieLens\n",
    "\n",
    "** Due Date: Due Date: October 26, BEFORE the beginning of class at 6:00pm **\n",
    "\n",
    "**NOTE: There are always last minute issues submitting the case studies. DO NOT WAIT UNTIL THE LAST MINUTE!**\n",
    "\n",
    "*------------"
   ]
  },
  {
   "cell_type": "markdown",
   "metadata": {},
   "source": [
    "## The MovieLens data sets\n",
    "\n",
    "<img src=\"https://pbs.twimg.com/profile_images/378800000380161537/b6fa868dce43807d4e67462587d0b0d2_400x400.png\">\n",
    "\n",
    "http://grouplens.org/datasets/movielens/\n",
    "\n"
   ]
  },
  {
   "cell_type": "code",
   "execution_count": 2,
   "metadata": {
    "collapsed": true
   },
   "outputs": [],
   "source": [
    "from IPython.lib.display import YouTubeVideo"
   ]
  },
  {
   "cell_type": "code",
   "execution_count": 3,
   "metadata": {
    "collapsed": false
   },
   "outputs": [
    {
     "data": {
      "image/jpeg": "[encoded data removed]",
      "text/html": [
       "\n",
       "        <iframe\n",
       "            width=\"400\"\n",
       "            height=\"300\"\n",
       "            src=\"https://www.youtube.com/embed/4tW9HY0Q460\"\n",
       "            frameborder=\"0\"\n",
       "            allowfullscreen\n",
       "        ></iframe>\n",
       "        "
      ],
      "text/plain": [
       "<IPython.lib.display.YouTubeVideo at 0x292c6f132e8>"
      ]
     },
     "execution_count": 3,
     "metadata": {},
     "output_type": "execute_result"
    }
   ],
   "source": [
    "YouTubeVideo('4tW9HY0Q460')"
   ]
  },
  {
   "cell_type": "markdown",
   "metadata": {},
   "source": [
    "**TEAM Members:** Please EDIT this cell and add the names of all the team members in your team\n",
    "\n",
    "    member 1\n",
    "    \n",
    "    member 2\n",
    "    \n",
    "    ..."
   ]
  },
  {
   "cell_type": "markdown",
   "metadata": {},
   "source": [
    "**Desired outcome of the case study.**\n",
    "* In this case study we will look at the MovieLens 1M Data Set.\n",
    "    * It contains data about users and how the rate movies.\n",
    "* The idea is to *analyze* the data set, make *conjectures*, support or refute those conjectures with *data*, and *tell a story* about the data!\n",
    "    \n",
    "**Required Readings:** \n",
    "* Chapter 2 (only the section on the MovieLens 1M Data Set), Chapter 5, Chapter 6,\n",
    "and Chapter 8 of the book [Python for Data Analysis](http://shop.oreilly.com/product/0636920023784.do)  (available from the WPI library as an e-book).\n",
    "* If you want your code to be really compact then you might want to also look into the pivot_table method of Panda's DataFrame, though there are many other ways to complete the case study!\n",
    "\n",
    "**Case study assumptions:**\n",
    "* You have access to a Python installation\n",
    "\n",
    "**Required Python libraries:**\n",
    "* Pandas (pandas.pydata.org)\n",
    "* Matplotlib (matplotlib.org)\n",
    "* If you need help installing them then you can refer to the Anaconda documentation of Chapter 1 of Python for Data Analysis book above \n",
    "\n",
    "** NOTE **\n",
    "* Please don't forget to save the notebook frequently when working in IPython Notebook, otherwise the changes you made can be lost.\n",
    "\n",
    "*----------------------"
   ]
  },
  {
   "cell_type": "markdown",
   "metadata": {},
   "source": [
    "# Problem 1 (20 points total): \n",
    "\n",
    "## (10 points) Importing the MovieLens data set and merging it into a single Pandas DataFrame"
   ]
  },
  {
   "cell_type": "markdown",
   "metadata": {},
   "source": [
    "* Download the 1 million ratings data set from http://grouplens.org/datasets/movielens/ (though if you are feeling adventerous you can download the 10 million ratings file instead)\n",
    "* Merge all of the data into a single Pandas DataFrame\n",
    "* Store the data into an HDF5 file.\n",
    "\n",
    "## (10 points) Report some basic details of the data you collected.  For example:\n",
    "\n",
    "*  How many movies have an average rating over 4.5 overall?\n",
    "*  How many movies have an average rating over 4.5 among men?  How about women?\n",
    "*  How many movies have an *median* rating over 4.5 among men over age 30?  How about women over age 30?\n",
    "*  What are the ten most popular movies?\n",
    "    * Choose what you consider to be a reasonable defintion of \"popular\".\n",
    "    * Be perpared to defend this choice.\n",
    "*  Make some conjectures about how easy various groups are to please? Support your answers with data!  \n",
    "    *  For example, one might conjecture that people between the ages of 1 and 10 are the easiest to please since they are all young children.  This conjecture may or may not be true, but how would you support or disprove either conclusion with with data?\n",
    "    *  Be sure to come up with your own conjectures and support them with data!\n"
   ]
  },
  {
   "cell_type": "code",
   "execution_count": 13,
   "metadata": {
    "collapsed": false
   },
   "outputs": [],
   "source": [
    "import pandas as pd\n",
    "\n",
    "#-------------------------------\n",
    "# Your code goes here.\n",
    "# Add as many cells as you need\n",
    "#-------------------------------\n",
    "movies = pd.read_csv('movies.dat', sep = '::', names =  ['MovieID','Title','Genres'], engine='python')\n",
    "ratings = pd.read_csv('ratings.dat', sep = '::', names = ['UserID', 'MovieID', 'Rating', 'Timestamp'],  engine='python')\n",
    "users = pd.read_csv('users.dat', sep = '::', names =['UserID', 'Gender', 'Age', 'Occupation', 'Zip-code'], engine='python')\n",
    "data = pd.merge(movies, ratings, on = ['MovieID'])\n",
    "data =pd.merge(data, users, on = ['UserID'])\n",
    "#print(data)\n",
    "store = pd.HDFStore('data.h5')\n",
    "store['data']=data\n",
    "#data1 = pd.read_hdf('data.h5')\n",
    "#print(data1)"
   ]
  },
  {
   "cell_type": "code",
   "execution_count": 14,
   "metadata": {
    "collapsed": false
   },
   "outputs": [
    {
     "name": "stdout",
     "output_type": "stream",
     "text": [
      "Title\n",
      "One Little Indian (1973)                                               5.000000\n",
      "Ulysses (Ulisse) (1954)                                                5.000000\n",
      "Song of Freedom (1936)                                                 5.000000\n",
      "Smashing Time (1967)                                                   5.000000\n",
      "Baby, The (1973)                                                       5.000000\n",
      "Bittersweet Motel (2000)                                               5.000000\n",
      "Schlafes Bruder (Brother of Sleep) (1995)                              5.000000\n",
      "Follow the Bitch (1998)                                                5.000000\n",
      "Gate of Heavenly Peace, The (1995)                                     5.000000\n",
      "Lured (1947)                                                           5.000000\n",
      "I Am Cuba (Soy Cuba/Ya Kuba) (1964)                                    4.800000\n",
      "Lamerica (1994)                                                        4.750000\n",
      "Apple, The (Sib) (1998)                                                4.666667\n",
      "Sanjuro (1962)                                                         4.608696\n",
      "Seven Samurai (The Magnificent Seven) (Shichinin no samurai) (1954)    4.560510\n",
      "Shawshank Redemption, The (1994)                                       4.554558\n",
      "Godfather, The (1972)                                                  4.524966\n",
      "Close Shave, A (1995)                                                  4.520548\n",
      "Usual Suspects, The (1995)                                             4.517106\n",
      "Schindler's List (1993)                                                4.510417\n",
      "Wrong Trousers, The (1993)                                             4.507937\n",
      "Name: Rating, dtype: float64\n",
      "\n",
      "Number of movies have an average rating over 4.5 overall:  21\n"
     ]
    }
   ],
   "source": [
    "#How many movies have an average rating over 4.5 overall?\n",
    "\n",
    "import numpy as np\n",
    "data =pd.read_hdf('data.h5')\n",
    "grouped = data.groupby(\"Title\")\n",
    "#help(grouped)\n",
    "averageRating = grouped[\"Rating\"].aggregate(np.mean)\n",
    "rating = averageRating.select(lambda x:averageRating[x]>4.5)\n",
    "#help(rating)\n",
    "rating = rating.sort_values(ascending=False, kind='quicksort')\n",
    "print(rating)\n",
    "print(\"\")\n",
    "print(\"Number of movies have an average rating over 4.5 overall: \", len(rating))"
   ]
  },
  {
   "cell_type": "code",
   "execution_count": 15,
   "metadata": {
    "collapsed": false
   },
   "outputs": [
    {
     "name": "stdout",
     "output_type": "stream",
     "text": [
      "Title\n",
      "Lured (1947)                                                           5.000000\n",
      "Schlafes Bruder (Brother of Sleep) (1995)                              5.000000\n",
      "Baby, The (1973)                                                       5.000000\n",
      "Bells, The (1926)                                                      5.000000\n",
      "Dangerous Game (1993)                                                  5.000000\n",
      "Follow the Bitch (1998)                                                5.000000\n",
      "Gate of Heavenly Peace, The (1995)                                     5.000000\n",
      "Angela (1995)                                                          5.000000\n",
      "Small Wonders (1996)                                                   5.000000\n",
      "Smashing Time (1967)                                                   5.000000\n",
      "Ulysses (Ulisse) (1954)                                                5.000000\n",
      "Time of the Gypsies (Dom za vesanje) (1989)                            4.833333\n",
      "I Am Cuba (Soy Cuba/Ya Kuba) (1964)                                    4.750000\n",
      "Lamerica (1994)                                                        4.666667\n",
      "Window to Paris (1994)                                                 4.666667\n",
      "Sanjuro (1962)                                                         4.639344\n",
      "Apple, The (Sib) (1998)                                                4.600000\n",
      "Godfather, The (1972)                                                  4.583333\n",
      "For All Mankind (1989)                                                 4.583333\n",
      "Seven Samurai (The Magnificent Seven) (Shichinin no samurai) (1954)    4.576628\n",
      "Shawshank Redemption, The (1994)                                       4.560625\n",
      "Raiders of the Lost Ark (1981)                                         4.520597\n",
      "Usual Suspects, The (1995)                                             4.518248\n",
      "Name: Rating, dtype: float64\n",
      "\n",
      "Number of movies have an average rating over 4.5 overall among men:  23\n"
     ]
    }
   ],
   "source": [
    "# How many movies have an average rating over 4.5 among men? How about women?\n",
    "men = data[data.Gender == 'M']\n",
    "grouped = men.groupby(\"Title\")\n",
    "#help(grouped)\n",
    "averageRating = grouped[\"Rating\"].aggregate(np.mean)\n",
    "rating = averageRating.select(lambda x:averageRating[x]>4.5)\n",
    "#help(rating)\n",
    "rating = rating.sort_values(ascending=False, kind='quicksort')\n",
    "print(rating)\n",
    "print(\"\")\n",
    "print(\"Number of movies have an average rating over 4.5 overall among men: \", len(rating))"
   ]
  },
  {
   "cell_type": "code",
   "execution_count": 16,
   "metadata": {
    "collapsed": false
   },
   "outputs": [
    {
     "name": "stdout",
     "output_type": "stream",
     "text": [
      "Title\n",
      "24 7: Twenty Four Seven (1997)                             5.000000\n",
      "Other Side of Sunday, The (S鴑dagsengler) (1996)            5.000000\n",
      "Coldblooded (1995)                                         5.000000\n",
      "Country Life (1994)                                        5.000000\n",
      "Bittersweet Motel (2000)                                   5.000000\n",
      "Dancemaker (1998)                                          5.000000\n",
      "For the Moment (1994)                                      5.000000\n",
      "Gambler, The (A J醫閗os) (1997)                              5.000000\n",
      "Gate of Heavenly Peace, The (1995)                         5.000000\n",
      "Big Combo, The (1955)                                      5.000000\n",
      "Belly (1998)                                               5.000000\n",
      "I Am Cuba (Soy Cuba/Ya Kuba) (1964)                        5.000000\n",
      "Lamerica (1994)                                            5.000000\n",
      "Message to Love: The Isle of Wight Festival (1996)         5.000000\n",
      "Brother, Can You Spare a Dime? (1975)                      5.000000\n",
      "One Little Indian (1973)                                   5.000000\n",
      "Skipped Parts (2000)                                       5.000000\n",
      "Battling Butler (1926)                                     5.000000\n",
      "Woman of Paris, A (1923)                                   5.000000\n",
      "Twice Upon a Yesterday (1998)                              5.000000\n",
      "Ayn Rand: A Sense of Life (1997)                           5.000000\n",
      "Song of Freedom (1936)                                     5.000000\n",
      "Ballad of Narayama, The (Narayama Bushiko) (1958)          5.000000\n",
      "Clean Slate (Coup de Torchon) (1981)                       5.000000\n",
      "Saltmen of Tibet, The (1997)                               5.000000\n",
      "Raw Deal (1948)                                            5.000000\n",
      "Prisoner of the Mountains (Kavkazsky Plennik) (1996)       5.000000\n",
      "World of Apu, The (Apur Sansar) (1959)                     4.842105\n",
      "Hearts and Minds (1996)                                    4.833333\n",
      "Apple, The (Sib) (1998)                                    4.750000\n",
      "Rain (1932)                                                4.750000\n",
      "Panther (1995)                                             4.666667\n",
      "Marcello Mastroianni: I Remember Yes, I Remember (1997)    4.666667\n",
      "Aparajito (1956)                                           4.666667\n",
      "Among Giants (1998)                                        4.666667\n",
      "Close Shave, A (1995)                                      4.644444\n",
      "Flower of My Secret, The (La Flor de Mi Secreto) (1995)    4.600000\n",
      "Firelight (1997)                                           4.600000\n",
      "Before the Rain (Pred dozhdot) (1994)                      4.600000\n",
      "Wrong Trousers, The (1993)                                 4.588235\n",
      "General, The (1927)                                        4.575758\n",
      "Sunset Blvd. (a.k.a. Sunset Boulevard) (1950)              4.572650\n",
      "Pather Panchali (1955)                                     4.571429\n",
      "Wallace & Gromit: The Best of Aardman Animation (1996)     4.563107\n",
      "Schindler's List (1993)                                    4.562602\n",
      "Grand Illusion (Grande illusion, La) (1937)                4.560976\n",
      "Shawshank Redemption, The (1994)                           4.539075\n",
      "Grand Day Out, A (1992)                                    4.537879\n",
      "To Kill a Mockingbird (1962)                               4.536667\n",
      "Creature Comforts (1990)                                   4.513889\n",
      "Usual Suspects, The (1995)                                 4.513317\n",
      "Name: Rating, dtype: float64\n",
      "\n",
      "Number of movies have an average rating over 4.5 overall among women:  51\n"
     ]
    }
   ],
   "source": [
    "women = data[data.Gender == 'F']\n",
    "grouped = women.groupby(\"Title\")\n",
    "#help(grouped)\n",
    "averageRating = grouped[\"Rating\"].aggregate(np.mean)\n",
    "rating = averageRating.select(lambda x:averageRating[x]>4.5)\n",
    "#help(rating)\n",
    "rating = rating.sort_values(ascending=False, kind='quicksort')\n",
    "print(rating)\n",
    "print(\"\")\n",
    "print(\"Number of movies have an average rating over 4.5 overall among women: \", len(rating))"
   ]
  },
  {
   "cell_type": "code",
   "execution_count": 17,
   "metadata": {
    "collapsed": false
   },
   "outputs": [
    {
     "name": "stdout",
     "output_type": "stream",
     "text": [
      "Title\n",
      "Young Frankenstein (1974)                                                      5.0\n",
      "Grapes of Wrath, The (1940)                                                    5.0\n",
      "Firelight (1997)                                                               5.0\n",
      "Follow the Bitch (1998)                                                        5.0\n",
      "For All Mankind (1989)                                                         5.0\n",
      "Gambler, The (A J醫閗os) (1997)                                                  5.0\n",
      "General, The (1927)                                                            5.0\n",
      "Godfather, The (1972)                                                          5.0\n",
      "Godfather: Part II, The (1974)                                                 5.0\n",
      "Grand Illusion (Grande illusion, La) (1937)                                    5.0\n",
      "Grateful Dead (1995)                                                           5.0\n",
      "Ed's Next Move (1996)                                                          5.0\n",
      "Hearts and Minds (1996)                                                        5.0\n",
      "I Am Cuba (Soy Cuba/Ya Kuba) (1964)                                            5.0\n",
      "Inherit the Wind (1960)                                                        5.0\n",
      "It's a Wonderful Life (1946)                                                   5.0\n",
      "Jean de Florette (1986)                                                        5.0\n",
      "Jupiter's Wife (1994)                                                          5.0\n",
      "Lamerica (1994)                                                                5.0\n",
      "Lawrence of Arabia (1962)                                                      5.0\n",
      "Fargo (1996)                                                                   5.0\n",
      "Dr. Strangelove or: How I Learned to Stop Worrying and Love the Bomb (1963)    5.0\n",
      "Yojimbo (1961)                                                                 5.0\n",
      "Bridge on the River Kwai, The (1957)                                           5.0\n",
      "All Quiet on the Western Front (1930)                                          5.0\n",
      "American Beauty (1999)                                                         5.0\n",
      "Among Giants (1998)                                                            5.0\n",
      "Angela (1995)                                                                  5.0\n",
      "Ayn Rand: A Sense of Life (1997)                                               5.0\n",
      "Bells, The (1926)                                                              5.0\n",
      "                                                                              ... \n",
      "Treasure of the Sierra Madre, The (1948)                                       5.0\n",
      "Two or Three Things I Know About Her (1966)                                    5.0\n",
      "Usual Suspects, The (1995)                                                     5.0\n",
      "Vampyros Lesbos (Las Vampiras) (1970)                                          5.0\n",
      "Wallace & Gromit: The Best of Aardman Animation (1996)                         5.0\n",
      "Window to Paris (1994)                                                         5.0\n",
      "Wizard of Oz, The (1939)                                                       5.0\n",
      "Wrong Trousers, The (1993)                                                     5.0\n",
      "Silence of the Lambs, The (1991)                                               5.0\n",
      "Shawshank Redemption, The (1994)                                               5.0\n",
      "Seventh Seal, The (Sjunde inseglet, Det) (1957)                                5.0\n",
      "Seven Samurai (The Magnificent Seven) (Shichinin no samurai) (1954)            5.0\n",
      "North by Northwest (1959)                                                      5.0\n",
      "One Flew Over the Cuckoo's Nest (1975)                                         5.0\n",
      "Palm Beach Story, The (1942)                                                   5.0\n",
      "Paralyzing Fear: The Story of Polio in America, A (1998)                       5.0\n",
      "Pather Panchali (1955)                                                         5.0\n",
      "Paths of Glory (1957)                                                          5.0\n",
      "Patton (1970)                                                                  5.0\n",
      "Psycho (1960)                                                                  5.0\n",
      "Raiders of the Lost Ark (1981)                                                 5.0\n",
      "Rear Window (1954)                                                             5.0\n",
      "Return with Honor (1998)                                                       5.0\n",
      "Sanjuro (1962)                                                                 5.0\n",
      "Saving Private Ryan (1998)                                                     5.0\n",
      "Schindler's List (1993)                                                        5.0\n",
      "Schlafes Bruder (Brother of Sleep) (1995)                                      5.0\n",
      "See the Sea (Regarde la mer) (1997)                                            5.0\n",
      "Seven Chances (1925)                                                           5.0\n",
      "42 Up (1998)                                                                   5.0\n",
      "Name: Rating, dtype: float64\n",
      "\n",
      "Number of movies have an median rating over 4.5 overall among men over age 30:  86\n"
     ]
    }
   ],
   "source": [
    "#How many movies have an median rating over 4.5 among men over age 30? How about women over age 30?\n",
    "men = data[data.Gender == 'M']\n",
    "menover30 = men[men.Age > 30]\n",
    "grouped = menover30.groupby(\"Title\")\n",
    "#help(grouped)\n",
    "averageRating = grouped[\"Rating\"].aggregate(np.median)\n",
    "rating = averageRating.select(lambda x:averageRating[x]>4.5)\n",
    "#help(rating)\n",
    "rating = rating.sort_values(ascending=False, kind='quicksort')\n",
    "print(rating)\n",
    "print(\"\")\n",
    "print(\"Number of movies have an median rating over 4.5 overall among men over age 30: \", len(rating))"
   ]
  },
  {
   "cell_type": "code",
   "execution_count": 18,
   "metadata": {
    "collapsed": false
   },
   "outputs": [
    {
     "name": "stdout",
     "output_type": "stream",
     "text": [
      "Title\n",
      "Young Frankenstein (1974)                                               5.0\n",
      "Grand Illusion (Grande illusion, La) (1937)                             5.0\n",
      "Gone with the Wind (1939)                                               5.0\n",
      "Godfather, The (1972)                                                   5.0\n",
      "General, The (1927)                                                     5.0\n",
      "Gaslight (1944)                                                         5.0\n",
      "Garden of Finzi-Contini, The (Giardino dei Finzi-Contini, Il) (1970)    5.0\n",
      "Gambler, The (A J醫閗os) (1997)                                           5.0\n",
      "Funeral, The (1996)                                                     5.0\n",
      "Force of Evil (1948)                                                    5.0\n",
      "Flower of My Secret, The (La Flor de Mi Secreto) (1995)                 5.0\n",
      "Firelight (1997)                                                        5.0\n",
      "Fargo (1996)                                                            5.0\n",
      "Faraway, So Close (In Weiter Ferne, So Nah!) (1993)                     5.0\n",
      "Eyes Without a Face (1959)                                              5.0\n",
      "Everest (1998)                                                          5.0\n",
      "Enchanted April (1991)                                                  5.0\n",
      "Grand Day Out, A (1992)                                                 5.0\n",
      "Grandfather, The (El Abuelo) (1998)                                     5.0\n",
      "Local Hero (1983)                                                       5.0\n",
      "Green Mile, The (1999)                                                  5.0\n",
      "Lawrence of Arabia (1962)                                               5.0\n",
      "Lawn Dogs (1997)                                                        5.0\n",
      "Lamerica (1994)                                                         5.0\n",
      "King of Masks, The (Bian Lian) (1996)                                   5.0\n",
      "Killing Fields, The (1984)                                              5.0\n",
      "Kagemusha (1980)                                                        5.0\n",
      "Jupiter's Wife (1994)                                                   5.0\n",
      "It's a Wonderful Life (1946)                                            5.0\n",
      "It Takes Two (1995)                                                     5.0\n",
      "                                                                       ... \n",
      "Only Angels Have Wings (1939)                                           5.0\n",
      "Official Story, The (La Historia Oficial) (1985)                        5.0\n",
      "Notorious (1946)                                                        5.0\n",
      "North by Northwest (1959)                                               5.0\n",
      "Nights of Cabiria (Le Notti di Cabiria) (1957)                          5.0\n",
      "My Fair Lady (1964)                                                     5.0\n",
      "Microcosmos (Microcosmos: Le peuple de l'herbe) (1996)                  5.0\n",
      "Marcello Mastroianni: I Remember Yes, I Remember (1997)                 5.0\n",
      "Manon of the Spring (Manon des sources) (1986)                          5.0\n",
      "Man Facing Southeast (Hombre Mirando al Sudeste) (1986)                 5.0\n",
      "Maltese Falcon, The (1941)                                              5.0\n",
      "Paris, France (1993)                                                    5.0\n",
      "Paths of Glory (1957)                                                   5.0\n",
      "Perils of Pauline, The (1947)                                           5.0\n",
      "Ran (1985)                                                              5.0\n",
      "Sanjuro (1962)                                                          5.0\n",
      "Saltmen of Tibet, The (1997)                                            5.0\n",
      "Red Sorghum (Hong Gao Liang) (1987)                                     5.0\n",
      "Rebecca (1940)                                                          5.0\n",
      "Rear Window (1954)                                                      5.0\n",
      "Raw Deal (1948)                                                         5.0\n",
      "Rain (1932)                                                             5.0\n",
      "Philadelphia Story, The (1940)                                          5.0\n",
      "Raiders of the Lost Ark (1981)                                          5.0\n",
      "Quiet Room, The (1996)                                                  5.0\n",
      "Psycho (1960)                                                           5.0\n",
      "Promise, The (La Promesse) (1996)                                       5.0\n",
      "Producers, The (1968)                                                   5.0\n",
      "Prisoner of the Mountains (Kavkazsky Plennik) (1996)                    5.0\n",
      "24 7: Twenty Four Seven (1997)                                          5.0\n",
      "Name: Rating, dtype: float64\n",
      "\n",
      "Number of movies have an median rating over 4.5 overall among women over age 30:  149\n"
     ]
    }
   ],
   "source": [
    "women = data[data.Gender == 'F']\n",
    "womenover30 = women[women.Age > 30]\n",
    "grouped = womenover30.groupby(\"Title\")\n",
    "#help(grouped)\n",
    "averageRating = grouped[\"Rating\"].aggregate(np.median)\n",
    "rating = averageRating.select(lambda x:averageRating[x]>4.5)\n",
    "#help(rating)\n",
    "rating = rating.sort_values(ascending=False, kind='quicksort')\n",
    "print(rating)\n",
    "print(\"\")\n",
    "print(\"Number of movies have an median rating over 4.5 overall among women over age 30: \", len(rating))"
   ]
  },
  {
   "cell_type": "code",
   "execution_count": 19,
   "metadata": {
    "collapsed": false
   },
   "outputs": [
    {
     "name": "stdout",
     "output_type": "stream",
     "text": [
      "Title\n",
      "American Beauty (1999)                                   3428\n",
      "Star Wars: Episode IV - A New Hope (1977)                2991\n",
      "Star Wars: Episode V - The Empire Strikes Back (1980)    2990\n",
      "Star Wars: Episode VI - Return of the Jedi (1983)        2883\n",
      "Jurassic Park (1993)                                     2672\n",
      "Saving Private Ryan (1998)                               2653\n",
      "Terminator 2: Judgment Day (1991)                        2649\n",
      "Matrix, The (1999)                                       2590\n",
      "Back to the Future (1985)                                2583\n",
      "Silence of the Lambs, The (1991)                         2578\n",
      "dtype: int64\n"
     ]
    }
   ],
   "source": [
    "#What are the ten most popular movies?\n",
    "#Choose what you consider to be a reasonable defintion of \"popular\".\n",
    "#Be perpared to defend this choice.\n",
    "#I think \"popular\" means this movie has been rated many times.\n",
    "print(data.groupby('Title').size().sort_values(ascending = False)[0:10])"
   ]
  },
  {
   "cell_type": "code",
   "execution_count": 20,
   "metadata": {
    "collapsed": false
   },
   "outputs": [
    {
     "name": "stdout",
     "output_type": "stream",
     "text": [
      "Title\n",
      "Shawshank Redemption, The (1994)                                               4.554558\n",
      "Godfather, The (1972)                                                          4.524966\n",
      "Usual Suspects, The (1995)                                                     4.517106\n",
      "Schindler's List (1993)                                                        4.510417\n",
      "Raiders of the Lost Ark (1981)                                                 4.477725\n",
      "Rear Window (1954)                                                             4.476190\n",
      "Star Wars: Episode IV - A New Hope (1977)                                      4.453694\n",
      "Dr. Strangelove or: How I Learned to Stop Worrying and Love the Bomb (1963)    4.449890\n",
      "Casablanca (1942)                                                              4.412822\n",
      "Sixth Sense, The (1999)                                                        4.406263\n",
      "Name: Rating, dtype: float64\n"
     ]
    }
   ],
   "source": [
    "#Maybe high rate numbers with high rating also means \"popular\"\n",
    "ratingCount =  data.groupby('Title').size()\n",
    "#help(ratingCount)\n",
    "popularMovies = ratingCount.index[ratingCount > 1000]\n",
    "grouped = data.loc[data['Title'].isin(popularMovies)].groupby('Title')\n",
    "averageRating = grouped[\"Rating\"].aggregate(np.mean)\n",
    "rating = averageRating.sort_values(ascending=False, kind='quicksort')\n",
    "#help(rating)\n",
    "print(rating[0:10])\n"
   ]
  },
  {
   "cell_type": "code",
   "execution_count": 22,
   "metadata": {
    "collapsed": false
   },
   "outputs": [],
   "source": [
    "#Make some conjectures about how easy various groups are to please? Support your answers with data!\n",
    "#For example, one might conjecture that people between the ages of 1 and 10 are the easiest to please since they are all young children. This conjecture may or may not be true, but how would you support or disprove either conclusion with with data?\n",
    "#Be sure to come up with your own conjectures and support them with data!\n",
    "\n"
   ]
  },
  {
   "cell_type": "markdown",
   "metadata": {},
   "source": [
    "# Problem 2 (20 points total): Expand our investigation to histograms\n",
    "\n",
    "**An obvious issue with any inferences drawn from Problem 1 is that we did not consider how many times a movie was rated.** \n",
    "* (2 points) Plot a histogram of the ratings of all movies.\n",
    "* (2 points) Plot a histogram of the *number* of ratings each movie recieved.\n",
    "* (2 points) Plot a histogram of the *average rating* for each movie. ???\n",
    "* (6 points) Plot a histogram of the *average rating* for movies which are rated more than 100 times.\n",
    "    * What do you observe about the tails of the histogram where you use all the movies versus the one where you only use movies rated more than 100 times?\n",
    "    * Which highly rated movies would you trust are actually good?  Those rated more than 100 times or those rated less than 100 times?\n",
    "* (8 points) Make some conjectures about the distribution of ratings? Support your answers with data!  \n",
    "    *  For example, what age range do you think has more extreme ratings?  Do you think children are more or less likely to rate a movie 1 or 5?\n",
    "    *  Be sure to come up with your own conjectures and support them with data!"
   ]
  },
  {
   "cell_type": "code",
   "execution_count": 29,
   "metadata": {
    "collapsed": false,
    "scrolled": true
   },
   "outputs": [
    {
     "data": {
      "text/plain": [
       "<matplotlib.text.Text at 0x292d9c7a0b8>"
      ]
     },
     "execution_count": 29,
     "metadata": {},
     "output_type": "execute_result"
    },
    {
     "data": {
      "image/png": "[encoded data removed]",
      "text/plain": [
       "<matplotlib.figure.Figure at 0x292c7afff60>"
      ]
     },
     "metadata": {},
     "output_type": "display_data"
    }
   ],
   "source": [
    "#-------------------------------\n",
    "# Your code goes here.\n",
    "# Add as many cells as you need\n",
    "#-------------------------------\n",
    "#Plot a histogram of the ratings of all movies.\n",
    "import matplotlib.pylab as py\n",
    "%matplotlib inline\n",
    "\n",
    "py.hist(data.Rating, color = 'silver',histtype = 'stepfilled',orientation ='horizontal')\n",
    "py.xlabel('Rate')\n",
    "py.ylabel('Number of Ratings')"
   ]
  },
  {
   "cell_type": "code",
   "execution_count": 38,
   "metadata": {
    "collapsed": false
   },
   "outputs": [
    {
     "data": {
      "text/plain": [
       "<matplotlib.text.Text at 0x21784c9f518>"
      ]
     },
     "execution_count": 38,
     "metadata": {},
     "output_type": "execute_result"
    },
    {
     "data": {
      "image/png": "[encoded data removed]",
      "text/plain": [
       "<matplotlib.figure.Figure at 0x2179bc3bf60>"
      ]
     },
     "metadata": {},
     "output_type": "display_data"
    }
   ],
   "source": [
    "#Plot a histogram of the *number* of ratings each movie recieved.\n",
    "grouped = data.groupby(\"Title\")\n",
    "py.hist(grouped.size(), color = 'silver')\n",
    "py.xlabel('Number of Ratings')\n",
    "py.ylabel('Number of Movies')"
   ]
  },
  {
   "cell_type": "code",
   "execution_count": 39,
   "metadata": {
    "collapsed": false
   },
   "outputs": [
    {
     "data": {
      "text/plain": [
       "<matplotlib.text.Text at 0x21784e51fd0>"
      ]
     },
     "execution_count": 39,
     "metadata": {},
     "output_type": "execute_result"
    },
    {
     "data": {
      "image/png": "[encoded data removed]",
      "text/plain": [
       "<matplotlib.figure.Figure at 0x21784dd8400>"
      ]
     },
     "metadata": {},
     "output_type": "display_data"
    }
   ],
   "source": [
    "#Plot a histogram of the *average rating* for each movie. \n",
    "grouped = data.groupby(\"Title\")\n",
    "averageRating = grouped[\"Rating\"].aggregate(np.mean)\n",
    "py.hist(averageRating, color = 'silver')\n",
    "py.xlabel('Rate')\n",
    "py.ylabel('Number of Movies')"
   ]
  },
  {
   "cell_type": "code",
   "execution_count": 41,
   "metadata": {
    "collapsed": false
   },
   "outputs": [
    {
     "data": {
      "text/plain": [
       "<matplotlib.text.Text at 0x217872cf4a8>"
      ]
     },
     "execution_count": 41,
     "metadata": {},
     "output_type": "execute_result"
    },
    {
     "data": {
      "image/png": "[encoded data removed]",
      "text/plain": [
       "<matplotlib.figure.Figure at 0x2179bc026d8>"
      ]
     },
     "metadata": {},
     "output_type": "display_data"
    }
   ],
   "source": [
    "#Plot a histogram of the *average rating* for movies which are rated more than 100 times.\n",
    "ratingCount =  data.groupby('Title').size()\n",
    "popularMovies = ratingCount.index[ratingCount > 100]\n",
    "grouped = data.loc[data['Title'].isin(popularMovies)].groupby('Title')\n",
    "averageRating = grouped[\"Rating\"].aggregate(np.mean)\n",
    "py.hist(averageRating, color = 'silver')\n",
    "py.xlabel('Rate')\n",
    "py.ylabel('Number of Movies')"
   ]
  },
  {
   "cell_type": "markdown",
   "metadata": {},
   "source": [
    " * What do you observe about the tails of the histogram where you use all the movies versus the one where you only use movies rated more than 100 times?\n",
    " * Balabala\n",
    "    * Which highly rated movies would you trust are actually good?  Those rated more than 100 times or those rated less than 100 times?\n",
    "    * Second one."
   ]
  },
  {
   "cell_type": "code",
   "execution_count": 42,
   "metadata": {
    "collapsed": true
   },
   "outputs": [],
   "source": [
    "#Make some conjectures about the distribution of ratings? Support your answers with data!\n",
    "#For example, what age range do you think has more extreme ratings? Do you think children are more or less likely to rate a movie 1 or 5?\n",
    "#Be sure to come up with your own conjectures and support them with data!\n",
    "\n"
   ]
  },
  {
   "cell_type": "markdown",
   "metadata": {},
   "source": [
    "*------------------------\n",
    "\n",
    "# Problem 3: (20 points total)\n",
    "## Correlation:  Men versus women\n",
    "\n",
    "Let look more closely at the relationship between the pieces of data we have."
   ]
  },
  {
   "cell_type": "markdown",
   "metadata": {},
   "source": [
    "* (2 points) Make a scatter plot of men versus women and their mean rating for every movie.\n",
    "* (2 points) Make a scatter plot of men versus women and their mean rating for movies rated more than 200 times.\n",
    "* (6 points) Compute the *correlation coefficent* between the ratings of men and women.\n",
    "    * What do you observe?\n",
    "    * Are the ratings similiar or not? Support your answer with data!\n",
    "* (10 points) Conjecture under what circumstances the rating given by one gender can be used to predict the rating given by the other gender.\n",
    "    * For example, are men and women more similar when they are younger or older?\n",
    "    * Be sure to come up with your own conjectures and support them with data!"
   ]
  },
  {
   "cell_type": "code",
   "execution_count": 49,
   "metadata": {
    "collapsed": false
   },
   "outputs": [
    {
     "data": {
      "text/plain": [
       "[<matplotlib.lines.Line2D at 0x217877d3ba8>]"
      ]
     },
     "execution_count": 49,
     "metadata": {},
     "output_type": "execute_result"
    },
    {
     "data": {
      "image/png": "[encoded data removed]",
      "text/plain": [
       "<matplotlib.figure.Figure at 0x217874f4198>"
      ]
     },
     "metadata": {},
     "output_type": "display_data"
    }
   ],
   "source": [
    "#-------------------------------\n",
    "# Your code goes here.\n",
    "# Add as many cells as you need\n",
    "#-------------------------------\n",
    "# Make a scatter plot of men versus women and their mean rating for every movie.\n",
    "import matplotlib.pyplot as plt\n",
    "X=data.pivot_table('Rating',index='Title',columns='Gender', aggfunc='mean')\n",
    "\n",
    "plt.xlabel('Male')\n",
    "plt.ylabel('Female')\n",
    "py.plot(X['M'],X['F'],'.')"
   ]
  },
  {
   "cell_type": "code",
   "execution_count": 50,
   "metadata": {
    "collapsed": false
   },
   "outputs": [
    {
     "data": {
      "text/plain": [
       "[<matplotlib.lines.Line2D at 0x217878439b0>]"
      ]
     },
     "execution_count": 50,
     "metadata": {},
     "output_type": "execute_result"
    },
    {
     "data": {
      "image/png": "[encoded data removed]",
      "text/plain": [
       "<matplotlib.figure.Figure at 0x217872bf6d8>"
      ]
     },
     "metadata": {},
     "output_type": "display_data"
    }
   ],
   "source": [
    "#Make a scatter plot of men versus women and their mean rating for movies rated more than 200 times.\n",
    "ratingCount =  data.groupby('Title').size()\n",
    "popularMovies = ratingCount.index[ratingCount > 200]\n",
    "popdata = data.loc[data['Title'].isin(popularMovies)]\n",
    "X1=popdata.pivot_table('Rating',index='Title',columns='Gender', aggfunc='mean')\n",
    "\n",
    "plt.xlabel('Male')\n",
    "plt.ylabel('Female')\n",
    "py.plot(X1['M'],X1['F'],'.')"
   ]
  },
  {
   "cell_type": "code",
   "execution_count": 51,
   "metadata": {
    "collapsed": false
   },
   "outputs": [
    {
     "name": "stdout",
     "output_type": "stream",
     "text": [
      "Correlation coefficent between the ratings of all men and women: \n",
      " Gender        F        M\n",
      "Gender                  \n",
      "F       1.00000  0.76319\n",
      "M       0.76319  1.00000\n",
      "\n",
      " Correlation coefficent between the ratings of men and women whose rating more than 200 times: \n",
      " Gender         F         M\n",
      "Gender                    \n",
      "F       1.000000  0.918361\n",
      "M       0.918361  1.000000\n"
     ]
    }
   ],
   "source": [
    "# Compute the correlation coefficent between the ratings of men and women.\n",
    "print ('Correlation coefficent between the ratings of all men and women: \\n',X.corr())\n",
    "print ('\\n Correlation coefficent between the ratings of men and women whose rating more than 200 times: \\n',X1.corr())"
   ]
  },
  {
   "cell_type": "markdown",
   "metadata": {},
   "source": [
    "* What do you observe?\n",
    "* Are the ratings similiar or not? Support your answer with data!"
   ]
  },
  {
   "cell_type": "markdown",
   "metadata": {},
   "source": [
    "*------------------------\n",
    "\n",
    "# Problem 4: (20 points total)\n",
    "## Open Ended Question:  Business Intelligence"
   ]
  },
  {
   "cell_type": "markdown",
   "metadata": {},
   "source": [
    "* Do any of your conjectures in Problems 1, 2, and 3 provide insights that a movie company might be interested in?\n",
    "* Propose a business question that you think this data can answer.\n",
    "* Suppose you are a Data Sciencetist at a movie company.  **Convince your boss that your conjecture is correct!**"
   ]
  },
  {
   "cell_type": "markdown",
   "metadata": {},
   "source": [
    "# Report: communicate the results (20 points)\n",
    "\n",
    "(1) (5 points) What data you collected?\n",
    "\n",
    "(2) (5 points) Why this topic is interesting or important to you? (Motivations)\n",
    "\n",
    "(3) (5 points) How did you analyse the data?\n",
    "\n",
    "(4) (5 points) What did you find in the data?\n",
    "(please include figures or tables in the report, but no source code)"
   ]
  },
  {
   "cell_type": "markdown",
   "metadata": {},
   "source": [
    "# Slides (for 10 minutes of presentation) (20 points)\n",
    "\n",
    "\n",
    "1. (5 points) Motivation about the data collection, why the topic is interesting to you. \n",
    "\n",
    "2. (10 points) Communicating Results (figure/table)\n",
    "\n",
    "3. (5 points) Story telling (How all the parts (data, analysis, result) fit together as a story?)"
   ]
  },
  {
   "cell_type": "markdown",
   "metadata": {},
   "source": [
    "*-----------------\n",
    "# Done\n",
    "\n",
    "All set! \n",
    "\n",
    "** What do you need to submit?**\n",
    "\n",
    "* **Notebook File**: Save this IPython notebook, and find the notebook file in your folder (for example, \"filename.ipynb\"). This is the file you need to submit. Please make sure all the plotted tables and figures are in the notebook. If you used \"ipython notebook --pylab=inline\" to open the notebook, all the figures and tables should have shown up in the notebook.\n",
    "\n",
    "\n",
    "* **PPT Slides**: please prepare PPT slides (for 10 minutes' talk) to present about the case study . We will ask two teams which are randomly selected to present their case studies in class for this case study. \n",
    "\n",
    "* ** Report**: please prepare a report (less than 10 pages) to report what you found in the data.\n",
    "    * What is the relationship between this topic and Business Intelligence?\n",
    "    * How did you analyse the data?\n",
    "    * What did you find in the data? \n",
    "    * What conjectures did you make and how did you support or disprove them using data?\n",
    "    * Did you find anything suprising in the data?\n",
    "    * What business decision do you think this data could help answer?  Why?\n",
    "\n",
    "     (please include figures or tables in the report, **but no source code**)\n",
    "\n",
    "*----------------------\n",
    "Please compress all the files in a zipped file.\n",
    "\n",
    "\n",
    "** How to submit: **\n",
    "\n",
    "        Please submit through email to Prof. Paffenroth (rcpaffenroth@wpi.edu) *and* the TA Yingnan Liu (yliu18@wpi.edu).\n",
    "\n",
    "#### We auto-process the submissions so make sure your subject line is *exactly*:\n",
    "\n",
    "### DS501 Case Study 2 Team ??\n",
    "\n",
    "#### where ?? is your team number.\n",
    "        \n",
    "** Note: Each team just needs to submits one submission **"
   ]
  },
  {
   "cell_type": "code",
   "execution_count": null,
   "metadata": {
    "collapsed": true
   },
   "outputs": [],
   "source": []
  }
 ],
 "metadata": {
  "anaconda-cloud": {},
  "kernelspec": {
   "display_name": "Python 3",
   "language": "python",
   "name": "python3"
  },
  "language_info": {
   "codemirror_mode": {
    "name": "ipython",
    "version": 3
   },
   "file_extension": ".py",
   "mimetype": "text/x-python",
   "name": "python",
   "nbconvert_exporter": "python",
   "pygments_lexer": "ipython3",
   "version": "3.5.2"
  }
 },
 "nbformat": 4,
 "nbformat_minor": 1
}
